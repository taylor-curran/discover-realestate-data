{
 "cells": [
  {
   "cell_type": "code",
   "execution_count": 30,
   "metadata": {},
   "outputs": [],
   "source": [
    "# Directory API, Profile Summary API, Reviews API\n",
    "# https://rapidapi.com/blog/zillow-api-python/\n",
    "# https://www.zillow.com/howto/api/GetSearchResults.htm\n",
    "\n",
    "import os\n",
    "from dotenv import load_dotenv\n",
    "import requests\n",
    "import json\n",
    "\n",
    "# Load API Keys\n",
    "load_dotenv()\n",
    "ZWSID = os.getenv(\"ZWSID\")\n",
    "\n",
    "\n",
    "\n",
    "params = {\n",
    "    'zws-id': ZWSID,\n",
    "    'address': '18611+Upper+Bay+Rd',\n",
    "    'citystatezip': '77058'\n",
    "    }\n",
    "\n",
    "url = \"https://www.zillow.com/webservice/GetSearchResults.htm\"\n",
    "response = requests.request('GET', url=url, params=params)"
   ]
  },
  {
   "cell_type": "code",
   "execution_count": 31,
   "metadata": {},
   "outputs": [
    {
     "data": {
      "text/plain": [
       "u'<?xml version=\"1.0\" encoding=\"utf-8\"?><SearchResults:searchresults xsi:schemaLocation=\"http://www.zillow.com/static/xsd/SearchResults.xsd https://www.zillowstatic.com/vstatic/80d5e73/static/xsd/SearchResults.xsd\" xmlns:xsi=\"http://www.w3.org/2001/XMLSchema-instance\" xmlns:SearchResults=\"http://www.zillow.com/static/xsd/SearchResults.xsd\"><request><address></address><citystatezip></citystatezip></request><message><text>Error: this account is not authorized to execute this API call</text><code>6</code></message></SearchResults:searchresults><!-- H:001  T:18ms  S:150  R:Tue Jan 19 10:12:26 PST 2021  B:5.0.66584-master.52eb3d5~delivery_ready.ee41e300 -->'"
      ]
     },
     "execution_count": 31,
     "metadata": {},
     "output_type": "execute_result"
    }
   ],
   "source": [
    "response.text"
   ]
  },
  {
   "cell_type": "code",
   "execution_count": null,
   "metadata": {},
   "outputs": [],
   "source": []
  }
 ],
 "metadata": {
  "kernelspec": {
   "display_name": "discov-real-2",
   "language": "python",
   "name": "discov-real-2"
  },
  "language_info": {
   "codemirror_mode": {
    "name": "ipython",
    "version": 2
   },
   "file_extension": ".py",
   "mimetype": "text/x-python",
   "name": "python",
   "nbconvert_exporter": "python",
   "pygments_lexer": "ipython2",
   "version": "2.7.16"
  }
 },
 "nbformat": 4,
 "nbformat_minor": 4
}
