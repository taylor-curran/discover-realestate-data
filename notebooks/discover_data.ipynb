{
 "cells": [
  {
   "cell_type": "markdown",
   "metadata": {},
   "source": [
    "# Exploring the Data Available in Each API"
   ]
  },
  {
   "cell_type": "code",
   "execution_count": 1,
   "metadata": {},
   "outputs": [],
   "source": [
    "import os\n",
    "from dotenv import load_dotenv\n",
    "import requests\n",
    "import json\n",
    "import matplotlib.pyplot as plt"
   ]
  },
  {
   "cell_type": "markdown",
   "metadata": {},
   "source": [
    "## Mashvisor"
   ]
  },
  {
   "cell_type": "code",
   "execution_count": 9,
   "metadata": {},
   "outputs": [],
   "source": [
    "# Authentication\n",
    "\n",
    "# Load API Keys\n",
    "load_dotenv()\n",
    "X_RAPID_API_KEY = os.getenv(\"X_RAPID_API_KEY\")\n",
    "X_RAPID_API_HOST_MASHVISOR = os.getenv(\"X_RAPID_API_HOST_MASHVISOR\")\n",
    "\n",
    "# Headers include Authentication Keys\n",
    "\n",
    "headers = {\n",
    "    'x-rapidapi-key': X_RAPID_API_KEY,\n",
    "    'x-rapidapi-host': X_RAPID_API_HOST_MASHVISOR\n",
    "    }"
   ]
  },
  {
   "cell_type": "code",
   "execution_count": 10,
   "metadata": {},
   "outputs": [
    {
     "name": "stdout",
     "output_type": "stream",
     "text": [
      "Shape: (4, 36)\n",
      "Columns: Index(['id', 'property_id', 'source', 'status', 'night_priceـnative',\n",
      "       'night_price', 'weekly_price', 'monthly_price', 'cleaning_fee_native',\n",
      "       'num_of_baths', 'num_of_rooms', 'occupancy', 'nights_booked',\n",
      "       'rental_income', 'airbnb_neighborhood_id', 'name', 'address',\n",
      "       'airbnb_neighborhood', 'airbnb_city', 'state', 'capacity_of_people',\n",
      "       'zip', 'property_type', 'room_type', 'room_type_category', 'amenities',\n",
      "       'reviews_count', 'start_rating', 'reviews', 'created_at', 'updated_at',\n",
      "       'num_of_beds', 'lat', 'lon', 'image', 'url'],\n",
      "      dtype='object')\n"
     ]
    },
    {
     "data": {
      "text/html": [
       "<div>\n",
       "<style scoped>\n",
       "    .dataframe tbody tr th:only-of-type {\n",
       "        vertical-align: middle;\n",
       "    }\n",
       "\n",
       "    .dataframe tbody tr th {\n",
       "        vertical-align: top;\n",
       "    }\n",
       "\n",
       "    .dataframe thead th {\n",
       "        text-align: right;\n",
       "    }\n",
       "</style>\n",
       "<table border=\"1\" class=\"dataframe\">\n",
       "  <thead>\n",
       "    <tr style=\"text-align: right;\">\n",
       "      <th></th>\n",
       "      <th>id</th>\n",
       "      <th>property_id</th>\n",
       "      <th>source</th>\n",
       "      <th>status</th>\n",
       "      <th>night_priceـnative</th>\n",
       "      <th>night_price</th>\n",
       "      <th>weekly_price</th>\n",
       "      <th>monthly_price</th>\n",
       "      <th>cleaning_fee_native</th>\n",
       "      <th>num_of_baths</th>\n",
       "      <th>...</th>\n",
       "      <th>reviews_count</th>\n",
       "      <th>start_rating</th>\n",
       "      <th>reviews</th>\n",
       "      <th>created_at</th>\n",
       "      <th>updated_at</th>\n",
       "      <th>num_of_beds</th>\n",
       "      <th>lat</th>\n",
       "      <th>lon</th>\n",
       "      <th>image</th>\n",
       "      <th>url</th>\n",
       "    </tr>\n",
       "  </thead>\n",
       "  <tbody>\n",
       "    <tr>\n",
       "      <th>0</th>\n",
       "      <td>25152172</td>\n",
       "      <td>11219540</td>\n",
       "      <td>Airbnb</td>\n",
       "      <td>ACTIVE</td>\n",
       "      <td>335</td>\n",
       "      <td>372</td>\n",
       "      <td>0</td>\n",
       "      <td>0</td>\n",
       "      <td>190</td>\n",
       "      <td>3</td>\n",
       "      <td>...</td>\n",
       "      <td>40</td>\n",
       "      <td>5</td>\n",
       "      <td>None</td>\n",
       "      <td>2020-10-31T21:59:36.000Z</td>\n",
       "      <td>2020-10-31T21:59:36.000Z</td>\n",
       "      <td>8</td>\n",
       "      <td>35.7301</td>\n",
       "      <td>-83.4592</td>\n",
       "      <td>https://a0.muscache.com/im/pictures/3e0cff88-f...</td>\n",
       "      <td>None</td>\n",
       "    </tr>\n",
       "    <tr>\n",
       "      <th>1</th>\n",
       "      <td>25152256</td>\n",
       "      <td>11414584</td>\n",
       "      <td>Airbnb</td>\n",
       "      <td>ACTIVE</td>\n",
       "      <td>140</td>\n",
       "      <td>132</td>\n",
       "      <td>0</td>\n",
       "      <td>0</td>\n",
       "      <td>85</td>\n",
       "      <td>1</td>\n",
       "      <td>...</td>\n",
       "      <td>302</td>\n",
       "      <td>5</td>\n",
       "      <td>None</td>\n",
       "      <td>2020-10-31T21:59:46.000Z</td>\n",
       "      <td>2020-10-31T21:59:46.000Z</td>\n",
       "      <td>2</td>\n",
       "      <td>35.7566</td>\n",
       "      <td>-83.4657</td>\n",
       "      <td>https://a0.muscache.com/im/pictures/1ccd481a-8...</td>\n",
       "      <td>None</td>\n",
       "    </tr>\n",
       "    <tr>\n",
       "      <th>2</th>\n",
       "      <td>25152395</td>\n",
       "      <td>11697936</td>\n",
       "      <td>Airbnb</td>\n",
       "      <td>ACTIVE</td>\n",
       "      <td>135</td>\n",
       "      <td>146</td>\n",
       "      <td>0</td>\n",
       "      <td>0</td>\n",
       "      <td>85</td>\n",
       "      <td>2</td>\n",
       "      <td>...</td>\n",
       "      <td>294</td>\n",
       "      <td>5</td>\n",
       "      <td>None</td>\n",
       "      <td>2020-10-31T22:00:03.000Z</td>\n",
       "      <td>2020-10-31T22:00:03.000Z</td>\n",
       "      <td>3</td>\n",
       "      <td>35.7436</td>\n",
       "      <td>-83.4847</td>\n",
       "      <td>https://a0.muscache.com/im/pictures/83d35763-4...</td>\n",
       "      <td>None</td>\n",
       "    </tr>\n",
       "    <tr>\n",
       "      <th>3</th>\n",
       "      <td>25152220</td>\n",
       "      <td>12407249</td>\n",
       "      <td>Airbnb</td>\n",
       "      <td>ACTIVE</td>\n",
       "      <td>99</td>\n",
       "      <td>94</td>\n",
       "      <td>0</td>\n",
       "      <td>0</td>\n",
       "      <td>60</td>\n",
       "      <td>1</td>\n",
       "      <td>...</td>\n",
       "      <td>176</td>\n",
       "      <td>5</td>\n",
       "      <td>None</td>\n",
       "      <td>2020-10-31T21:59:42.000Z</td>\n",
       "      <td>2020-10-31T21:59:42.000Z</td>\n",
       "      <td>1</td>\n",
       "      <td>35.7069</td>\n",
       "      <td>-83.5592</td>\n",
       "      <td>https://a0.muscache.com/im/pictures/1436c02a-c...</td>\n",
       "      <td>None</td>\n",
       "    </tr>\n",
       "  </tbody>\n",
       "</table>\n",
       "<p>4 rows × 36 columns</p>\n",
       "</div>"
      ],
      "text/plain": [
       "         id property_id  source  status  night_priceـnative  night_price  \\\n",
       "0  25152172    11219540  Airbnb  ACTIVE                 335          372   \n",
       "1  25152256    11414584  Airbnb  ACTIVE                 140          132   \n",
       "2  25152395    11697936  Airbnb  ACTIVE                 135          146   \n",
       "3  25152220    12407249  Airbnb  ACTIVE                  99           94   \n",
       "\n",
       "   weekly_price  monthly_price  cleaning_fee_native  num_of_baths  ...  \\\n",
       "0             0              0                  190             3  ...   \n",
       "1             0              0                   85             1  ...   \n",
       "2             0              0                   85             2  ...   \n",
       "3             0              0                   60             1  ...   \n",
       "\n",
       "   reviews_count  start_rating  reviews                created_at  \\\n",
       "0             40             5     None  2020-10-31T21:59:36.000Z   \n",
       "1            302             5     None  2020-10-31T21:59:46.000Z   \n",
       "2            294             5     None  2020-10-31T22:00:03.000Z   \n",
       "3            176             5     None  2020-10-31T21:59:42.000Z   \n",
       "\n",
       "                 updated_at num_of_beds      lat      lon  \\\n",
       "0  2020-10-31T21:59:36.000Z           8  35.7301 -83.4592   \n",
       "1  2020-10-31T21:59:46.000Z           2  35.7566 -83.4657   \n",
       "2  2020-10-31T22:00:03.000Z           3  35.7436 -83.4847   \n",
       "3  2020-10-31T21:59:42.000Z           1  35.7069 -83.5592   \n",
       "\n",
       "                                               image   url  \n",
       "0  https://a0.muscache.com/im/pictures/3e0cff88-f...  None  \n",
       "1  https://a0.muscache.com/im/pictures/1ccd481a-8...  None  \n",
       "2  https://a0.muscache.com/im/pictures/83d35763-4...  None  \n",
       "3  https://a0.muscache.com/im/pictures/1436c02a-c...  None  \n",
       "\n",
       "[4 rows x 36 columns]"
      ]
     },
     "execution_count": 10,
     "metadata": {},
     "output_type": "execute_result"
    }
   ],
   "source": [
    "# Build Query URL\n",
    "\n",
    "url_beginning = \"https://mashvisor-api.p.rapidapi.com\"\n",
    "url_ending = \"/airbnb-property/active-listings\"\n",
    "\n",
    "url = url_beginning + url_ending\n",
    "\n",
    "querystring = {\n",
    "    \"state\": \"TN\",\n",
    "    \"zip_code\": \"37738\"\n",
    "               }\n",
    "\n",
    "# Request\n",
    "\n",
    "response = requests.request(\"GET\", url, headers=headers, params=querystring)\n",
    "json_response = response.json()\n",
    "\n",
    "# Build Dataframe\n",
    "\n",
    "import pandas as pd\n",
    "\n",
    "df = pd.DataFrame(json_response['content']['properties'])\n",
    "\n",
    "print(\"Shape:\", df.shape)\n",
    "print(\"Columns:\", df.columns)\n",
    "df.head()"
   ]
  },
  {
   "cell_type": "code",
   "execution_count": 11,
   "metadata": {},
   "outputs": [
    {
     "name": "stdout",
     "output_type": "stream",
     "text": [
      "Shape: (4, 36)\n",
      "Columns: Index(['id', 'property_id', 'source', 'status', 'night_priceـnative',\n",
      "       'night_price', 'weekly_price', 'monthly_price', 'cleaning_fee_native',\n",
      "       'num_of_baths', 'num_of_rooms', 'occupancy', 'nights_booked',\n",
      "       'rental_income', 'airbnb_neighborhood_id', 'name', 'address',\n",
      "       'airbnb_neighborhood', 'airbnb_city', 'state', 'capacity_of_people',\n",
      "       'zip', 'property_type', 'room_type', 'room_type_category', 'amenities',\n",
      "       'reviews_count', 'start_rating', 'reviews', 'created_at', 'updated_at',\n",
      "       'num_of_beds', 'lat', 'lon', 'image', 'url'],\n",
      "      dtype='object')\n"
     ]
    },
    {
     "data": {
      "text/html": [
       "<div>\n",
       "<style scoped>\n",
       "    .dataframe tbody tr th:only-of-type {\n",
       "        vertical-align: middle;\n",
       "    }\n",
       "\n",
       "    .dataframe tbody tr th {\n",
       "        vertical-align: top;\n",
       "    }\n",
       "\n",
       "    .dataframe thead th {\n",
       "        text-align: right;\n",
       "    }\n",
       "</style>\n",
       "<table border=\"1\" class=\"dataframe\">\n",
       "  <thead>\n",
       "    <tr style=\"text-align: right;\">\n",
       "      <th></th>\n",
       "      <th>id</th>\n",
       "      <th>property_id</th>\n",
       "      <th>source</th>\n",
       "      <th>status</th>\n",
       "      <th>night_priceـnative</th>\n",
       "      <th>night_price</th>\n",
       "      <th>weekly_price</th>\n",
       "      <th>monthly_price</th>\n",
       "      <th>cleaning_fee_native</th>\n",
       "      <th>num_of_baths</th>\n",
       "      <th>...</th>\n",
       "      <th>reviews_count</th>\n",
       "      <th>start_rating</th>\n",
       "      <th>reviews</th>\n",
       "      <th>created_at</th>\n",
       "      <th>updated_at</th>\n",
       "      <th>num_of_beds</th>\n",
       "      <th>lat</th>\n",
       "      <th>lon</th>\n",
       "      <th>image</th>\n",
       "      <th>url</th>\n",
       "    </tr>\n",
       "  </thead>\n",
       "  <tbody>\n",
       "    <tr>\n",
       "      <th>0</th>\n",
       "      <td>25152172</td>\n",
       "      <td>11219540</td>\n",
       "      <td>Airbnb</td>\n",
       "      <td>ACTIVE</td>\n",
       "      <td>335</td>\n",
       "      <td>372</td>\n",
       "      <td>0</td>\n",
       "      <td>0</td>\n",
       "      <td>190</td>\n",
       "      <td>3</td>\n",
       "      <td>...</td>\n",
       "      <td>40</td>\n",
       "      <td>5</td>\n",
       "      <td>None</td>\n",
       "      <td>2020-10-31T21:59:36.000Z</td>\n",
       "      <td>2020-10-31T21:59:36.000Z</td>\n",
       "      <td>8</td>\n",
       "      <td>35.7301</td>\n",
       "      <td>-83.4592</td>\n",
       "      <td>https://a0.muscache.com/im/pictures/3e0cff88-f...</td>\n",
       "      <td>None</td>\n",
       "    </tr>\n",
       "    <tr>\n",
       "      <th>1</th>\n",
       "      <td>25152256</td>\n",
       "      <td>11414584</td>\n",
       "      <td>Airbnb</td>\n",
       "      <td>ACTIVE</td>\n",
       "      <td>140</td>\n",
       "      <td>132</td>\n",
       "      <td>0</td>\n",
       "      <td>0</td>\n",
       "      <td>85</td>\n",
       "      <td>1</td>\n",
       "      <td>...</td>\n",
       "      <td>302</td>\n",
       "      <td>5</td>\n",
       "      <td>None</td>\n",
       "      <td>2020-10-31T21:59:46.000Z</td>\n",
       "      <td>2020-10-31T21:59:46.000Z</td>\n",
       "      <td>2</td>\n",
       "      <td>35.7566</td>\n",
       "      <td>-83.4657</td>\n",
       "      <td>https://a0.muscache.com/im/pictures/1ccd481a-8...</td>\n",
       "      <td>None</td>\n",
       "    </tr>\n",
       "    <tr>\n",
       "      <th>2</th>\n",
       "      <td>25152395</td>\n",
       "      <td>11697936</td>\n",
       "      <td>Airbnb</td>\n",
       "      <td>ACTIVE</td>\n",
       "      <td>135</td>\n",
       "      <td>146</td>\n",
       "      <td>0</td>\n",
       "      <td>0</td>\n",
       "      <td>85</td>\n",
       "      <td>2</td>\n",
       "      <td>...</td>\n",
       "      <td>294</td>\n",
       "      <td>5</td>\n",
       "      <td>None</td>\n",
       "      <td>2020-10-31T22:00:03.000Z</td>\n",
       "      <td>2020-10-31T22:00:03.000Z</td>\n",
       "      <td>3</td>\n",
       "      <td>35.7436</td>\n",
       "      <td>-83.4847</td>\n",
       "      <td>https://a0.muscache.com/im/pictures/83d35763-4...</td>\n",
       "      <td>None</td>\n",
       "    </tr>\n",
       "    <tr>\n",
       "      <th>3</th>\n",
       "      <td>25152220</td>\n",
       "      <td>12407249</td>\n",
       "      <td>Airbnb</td>\n",
       "      <td>ACTIVE</td>\n",
       "      <td>99</td>\n",
       "      <td>94</td>\n",
       "      <td>0</td>\n",
       "      <td>0</td>\n",
       "      <td>60</td>\n",
       "      <td>1</td>\n",
       "      <td>...</td>\n",
       "      <td>176</td>\n",
       "      <td>5</td>\n",
       "      <td>None</td>\n",
       "      <td>2020-10-31T21:59:42.000Z</td>\n",
       "      <td>2020-10-31T21:59:42.000Z</td>\n",
       "      <td>1</td>\n",
       "      <td>35.7069</td>\n",
       "      <td>-83.5592</td>\n",
       "      <td>https://a0.muscache.com/im/pictures/1436c02a-c...</td>\n",
       "      <td>None</td>\n",
       "    </tr>\n",
       "  </tbody>\n",
       "</table>\n",
       "<p>4 rows × 36 columns</p>\n",
       "</div>"
      ],
      "text/plain": [
       "         id property_id  source  status  night_priceـnative  night_price  \\\n",
       "0  25152172    11219540  Airbnb  ACTIVE                 335          372   \n",
       "1  25152256    11414584  Airbnb  ACTIVE                 140          132   \n",
       "2  25152395    11697936  Airbnb  ACTIVE                 135          146   \n",
       "3  25152220    12407249  Airbnb  ACTIVE                  99           94   \n",
       "\n",
       "   weekly_price  monthly_price  cleaning_fee_native  num_of_baths  ...  \\\n",
       "0             0              0                  190             3  ...   \n",
       "1             0              0                   85             1  ...   \n",
       "2             0              0                   85             2  ...   \n",
       "3             0              0                   60             1  ...   \n",
       "\n",
       "   reviews_count  start_rating  reviews                created_at  \\\n",
       "0             40             5     None  2020-10-31T21:59:36.000Z   \n",
       "1            302             5     None  2020-10-31T21:59:46.000Z   \n",
       "2            294             5     None  2020-10-31T22:00:03.000Z   \n",
       "3            176             5     None  2020-10-31T21:59:42.000Z   \n",
       "\n",
       "                 updated_at num_of_beds      lat      lon  \\\n",
       "0  2020-10-31T21:59:36.000Z           8  35.7301 -83.4592   \n",
       "1  2020-10-31T21:59:46.000Z           2  35.7566 -83.4657   \n",
       "2  2020-10-31T22:00:03.000Z           3  35.7436 -83.4847   \n",
       "3  2020-10-31T21:59:42.000Z           1  35.7069 -83.5592   \n",
       "\n",
       "                                               image   url  \n",
       "0  https://a0.muscache.com/im/pictures/3e0cff88-f...  None  \n",
       "1  https://a0.muscache.com/im/pictures/1ccd481a-8...  None  \n",
       "2  https://a0.muscache.com/im/pictures/83d35763-4...  None  \n",
       "3  https://a0.muscache.com/im/pictures/1436c02a-c...  None  \n",
       "\n",
       "[4 rows x 36 columns]"
      ]
     },
     "execution_count": 11,
     "metadata": {},
     "output_type": "execute_result"
    }
   ],
   "source": [
    "# Build Query URL - Get Listings\n",
    "\n",
    "url_beginning = \"https://mashvisor-api.p.rapidapi.com\"\n",
    "url_ending = \"/airbnb-property/active-listings\"\n",
    "\n",
    "url = url_beginning + url_ending\n",
    "\n",
    "querystring = {\n",
    "    \"state\": \"TN\",\n",
    "    \"zip_code\": \"37738\"\n",
    "               }\n",
    "\n",
    "# Request\n",
    "\n",
    "response = requests.request(\"GET\", url, headers=headers, params=querystring)\n",
    "json_response = response.json()\n",
    "\n",
    "# Build Dataframe\n",
    "\n",
    "import pandas as pd\n",
    "\n",
    "df = pd.DataFrame(json_response['content']['properties'])\n",
    "\n",
    "print(\"Shape:\", df.shape)\n",
    "print(\"Columns:\", df.columns)\n",
    "df.head()"
   ]
  },
  {
   "cell_type": "code",
   "execution_count": 22,
   "metadata": {},
   "outputs": [
    {
     "data": {
      "text/plain": [
       "0    False\n",
       "1    False\n",
       "2    False\n",
       "3    False\n",
       "Name: name, dtype: bool"
      ]
     },
     "execution_count": 22,
     "metadata": {},
     "output_type": "execute_result"
    }
   ],
   "source": [
    "df['name'].str.contains('judy')"
   ]
  },
  {
   "cell_type": "code",
   "execution_count": 12,
   "metadata": {},
   "outputs": [
    {
     "data": {
      "text/plain": [
       "dict_keys(['listings_count', 'property_types', 'occupancy_histogram', 'night_price_histogram', 'rental_income_histogram', 'listings_ids'])"
      ]
     },
     "execution_count": 12,
     "metadata": {},
     "output_type": "execute_result"
    }
   ],
   "source": [
    "# Build Query URL - Market Summary\n",
    "\n",
    "url_beginning = \"https://mashvisor-api.p.rapidapi.com\"\n",
    "url_ending = \"/airbnb-property/market-summary\"\n",
    "\n",
    "url = url_beginning + url_ending\n",
    "\n",
    "querystring = {\n",
    "    \"state\": \"TN\",\n",
    "    \"zip_code\": \"37738\"\n",
    "               }\n",
    "\n",
    "# Request\n",
    "\n",
    "response = requests.request(\"GET\", url, headers=headers, params=querystring)\n",
    "json_response = response.json()\n",
    "\n",
    "content = json_response['content']\n",
    "\n",
    "# Seems Like this is a Series of Histograms\n",
    "# that describe a market\n",
    "json_response['content'].keys()"
   ]
  },
  {
   "cell_type": "code",
   "execution_count": 17,
   "metadata": {},
   "outputs": [
    {
     "data": {
      "text/plain": [
       "(array([141.,  14.,   0.,  27.,   0.,  17.,   3.,   0.,   5.,   1.]),\n",
       " array([0. , 0.6, 1.2, 1.8, 2.4, 3. , 3.6, 4.2, 4.8, 5.4, 6. ]),\n",
       " <BarContainer object of 10 artists>)"
      ]
     },
     "execution_count": 17,
     "metadata": {},
     "output_type": "execute_result"
    },
    {
     "data": {
      "image/png": "[encoded data removed]",
      "text/plain": [
       "<Figure size 432x288 with 1 Axes>"
      ]
     },
     "metadata": {
      "needs_background": "light"
     },
     "output_type": "display_data"
    }
   ],
   "source": [
    "plt.hist(content['property_types']['histogram'])"
   ]
  },
  {
   "cell_type": "code",
   "execution_count": 20,
   "metadata": {},
   "outputs": [
    {
     "data": {
      "text/plain": [
       "(array([41., 58., 36., 25., 16., 13.,  9.,  3.,  6.,  1.]),\n",
       " array([ 1210. ,  2611.9,  4013.8,  5415.7,  6817.6,  8219.5,  9621.4,\n",
       "        11023.3, 12425.2, 13827.1, 15229. ]),\n",
       " <BarContainer object of 10 artists>)"
      ]
     },
     "execution_count": 20,
     "metadata": {},
     "output_type": "execute_result"
    },
    {
     "data": {
      "image/png": "[encoded data removed]",
      "text/plain": [
       "<Figure size 432x288 with 1 Axes>"
      ]
     },
     "metadata": {
      "needs_background": "light"
     },
     "output_type": "display_data"
    }
   ],
   "source": [
    "plt.hist(content['rental_income_histogram']['histogram'])"
   ]
  },
  {
   "cell_type": "code",
   "execution_count": null,
   "metadata": {},
   "outputs": [],
   "source": []
  },
  {
   "cell_type": "code",
   "execution_count": null,
   "metadata": {},
   "outputs": [],
   "source": []
  },
  {
   "cell_type": "code",
   "execution_count": null,
   "metadata": {},
   "outputs": [],
   "source": []
  },
  {
   "cell_type": "code",
   "execution_count": null,
   "metadata": {},
   "outputs": [],
   "source": []
  },
  {
   "cell_type": "code",
   "execution_count": null,
   "metadata": {},
   "outputs": [],
   "source": []
  },
  {
   "cell_type": "code",
   "execution_count": null,
   "metadata": {},
   "outputs": [],
   "source": []
  },
  {
   "cell_type": "code",
   "execution_count": null,
   "metadata": {},
   "outputs": [],
   "source": []
  },
  {
   "cell_type": "code",
   "execution_count": null,
   "metadata": {},
   "outputs": [],
   "source": []
  },
  {
   "cell_type": "code",
   "execution_count": null,
   "metadata": {},
   "outputs": [],
   "source": []
  },
  {
   "cell_type": "markdown",
   "metadata": {},
   "source": [
    "## Realtor API"
   ]
  },
  {
   "cell_type": "code",
   "execution_count": null,
   "metadata": {},
   "outputs": [],
   "source": []
  }
 ],
 "metadata": {
  "kernelspec": {
   "display_name": "disc-realestate",
   "language": "python",
   "name": "disc-realestate"
  },
  "language_info": {
   "codemirror_mode": {
    "name": "ipython",
    "version": 3
   },
   "file_extension": ".py",
   "mimetype": "text/x-python",
   "name": "python",
   "nbconvert_exporter": "python",
   "pygments_lexer": "ipython3",
   "version": "3.8.1"
  }
 },
 "nbformat": 4,
 "nbformat_minor": 4
}
