{
 "cells": [
  {
   "cell_type": "markdown",
   "metadata": {},
   "source": [
    "# Examining Tokens"
   ]
  },
  {
   "cell_type": "code",
   "execution_count": 1,
   "metadata": {},
   "outputs": [],
   "source": [
    "from data import data_frames as dfs\n",
    "import pandas as pd"
   ]
  },
  {
   "cell_type": "code",
   "execution_count": 2,
   "metadata": {},
   "outputs": [
    {
     "data": {
      "text/plain": [
       "['ashville_lst',\n",
       " 'ashville_rvs',\n",
       " 'austin_lst',\n",
       " 'austin_rvs',\n",
       " 'broward_lst',\n",
       " 'broward_rvs',\n",
       " 'clark_lst',\n",
       " 'clark_rvs',\n",
       " 'nashville_lst',\n",
       " 'nashville_rvs',\n",
       " 'ottawa_lst',\n",
       " 'ottawa_rvs',\n",
       " 'salem_lst',\n",
       " 'salem_rvs']"
      ]
     },
     "execution_count": 2,
     "metadata": {},
     "output_type": "execute_result"
    }
   ],
   "source": [
    "dfs.all_df_names"
   ]
  },
  {
   "cell_type": "code",
   "execution_count": 3,
   "metadata": {},
   "outputs": [
    {
     "data": {
      "text/plain": [
       "(173892, 6)"
      ]
     },
     "execution_count": 3,
     "metadata": {},
     "output_type": "execute_result"
    }
   ],
   "source": [
    "dfs.all_dfs[1].shape"
   ]
  },
  {
   "cell_type": "code",
   "execution_count": 4,
   "metadata": {},
   "outputs": [
    {
     "name": "stdout",
     "output_type": "stream",
     "text": [
      "(14, 2)\n"
     ]
    }
   ],
   "source": [
    "df_stats = {}\n",
    "for i, df in enumerate(dfs.all_df_names):\n",
    "    df_stats.update({df: [dfs.all_dfs[i].shape[0], \n",
    "                          dfs.all_dfs[i].shape[1]] \n",
    "                    })    \n",
    "df_stats = pd.DataFrame(df_stats).T\n",
    "df_stats = df_stats.rename(columns={0: 'n_rows', 1:'n_columns'})\n",
    "print(df_stats.shape)"
   ]
  },
  {
   "cell_type": "code",
   "execution_count": 5,
   "metadata": {},
   "outputs": [
    {
     "data": {
      "text/html": [
       "<div>\n",
       "<style scoped>\n",
       "    .dataframe tbody tr th:only-of-type {\n",
       "        vertical-align: middle;\n",
       "    }\n",
       "\n",
       "    .dataframe tbody tr th {\n",
       "        vertical-align: top;\n",
       "    }\n",
       "\n",
       "    .dataframe thead th {\n",
       "        text-align: right;\n",
       "    }\n",
       "</style>\n",
       "<table border=\"1\" class=\"dataframe\">\n",
       "  <thead>\n",
       "    <tr style=\"text-align: right;\">\n",
       "      <th></th>\n",
       "      <th>n_rows</th>\n",
       "      <th>n_columns</th>\n",
       "    </tr>\n",
       "  </thead>\n",
       "  <tbody>\n",
       "    <tr>\n",
       "      <th>nashville_rvs</th>\n",
       "      <td>322322</td>\n",
       "      <td>6</td>\n",
       "    </tr>\n",
       "    <tr>\n",
       "      <th>austin_rvs</th>\n",
       "      <td>321484</td>\n",
       "      <td>6</td>\n",
       "    </tr>\n",
       "    <tr>\n",
       "      <th>clark_rvs</th>\n",
       "      <td>267537</td>\n",
       "      <td>6</td>\n",
       "    </tr>\n",
       "    <tr>\n",
       "      <th>broward_rvs</th>\n",
       "      <td>215455</td>\n",
       "      <td>6</td>\n",
       "    </tr>\n",
       "    <tr>\n",
       "      <th>ashville_rvs</th>\n",
       "      <td>173892</td>\n",
       "      <td>6</td>\n",
       "    </tr>\n",
       "    <tr>\n",
       "      <th>ottawa_rvs</th>\n",
       "      <td>100764</td>\n",
       "      <td>6</td>\n",
       "    </tr>\n",
       "    <tr>\n",
       "      <th>austin_lst</th>\n",
       "      <td>10450</td>\n",
       "      <td>74</td>\n",
       "    </tr>\n",
       "    <tr>\n",
       "      <th>broward_lst</th>\n",
       "      <td>10071</td>\n",
       "      <td>74</td>\n",
       "    </tr>\n",
       "    <tr>\n",
       "      <th>clark_lst</th>\n",
       "      <td>9156</td>\n",
       "      <td>74</td>\n",
       "    </tr>\n",
       "    <tr>\n",
       "      <th>salem_rvs</th>\n",
       "      <td>7994</td>\n",
       "      <td>6</td>\n",
       "    </tr>\n",
       "    <tr>\n",
       "      <th>nashville_lst</th>\n",
       "      <td>5945</td>\n",
       "      <td>74</td>\n",
       "    </tr>\n",
       "    <tr>\n",
       "      <th>ottawa_lst</th>\n",
       "      <td>2669</td>\n",
       "      <td>74</td>\n",
       "    </tr>\n",
       "    <tr>\n",
       "      <th>ashville_lst</th>\n",
       "      <td>2172</td>\n",
       "      <td>74</td>\n",
       "    </tr>\n",
       "    <tr>\n",
       "      <th>salem_lst</th>\n",
       "      <td>157</td>\n",
       "      <td>74</td>\n",
       "    </tr>\n",
       "  </tbody>\n",
       "</table>\n",
       "</div>"
      ],
      "text/plain": [
       "               n_rows  n_columns\n",
       "nashville_rvs  322322          6\n",
       "austin_rvs     321484          6\n",
       "clark_rvs      267537          6\n",
       "broward_rvs    215455          6\n",
       "ashville_rvs   173892          6\n",
       "ottawa_rvs     100764          6\n",
       "austin_lst      10450         74\n",
       "broward_lst     10071         74\n",
       "clark_lst        9156         74\n",
       "salem_rvs        7994          6\n",
       "nashville_lst    5945         74\n",
       "ottawa_lst       2669         74\n",
       "ashville_lst     2172         74\n",
       "salem_lst         157         74"
      ]
     },
     "execution_count": 5,
     "metadata": {},
     "output_type": "execute_result"
    }
   ],
   "source": [
    "df_stats.sort_values('n_rows', ascending=False)"
   ]
  },
  {
   "cell_type": "code",
   "execution_count": 6,
   "metadata": {},
   "outputs": [
    {
     "data": {
      "text/plain": [
       "['ashville_rvs',\n",
       " 'austin_rvs',\n",
       " 'broward_rvs',\n",
       " 'clark_rvs',\n",
       " 'nashville_rvs',\n",
       " 'ottawa_rvs',\n",
       " 'salem_rvs']"
      ]
     },
     "execution_count": 6,
     "metadata": {},
     "output_type": "execute_result"
    }
   ],
   "source": [
    "# Get Only Reviews Dataframes\n",
    "rvs_names = [df for df in dfs.all_df_names if 'rvs' in df]\n",
    "rvs_names"
   ]
  },
  {
   "cell_type": "code",
   "execution_count": 7,
   "metadata": {},
   "outputs": [
    {
     "data": {
      "text/plain": [
       "['__builtins__',\n",
       " '__cached__',\n",
       " '__doc__',\n",
       " '__file__',\n",
       " '__loader__',\n",
       " '__name__',\n",
       " '__package__',\n",
       " '__spec__',\n",
       " 'all_df_names',\n",
       " 'all_dfs',\n",
       " 'ashville_lst',\n",
       " 'ashville_rvs',\n",
       " 'austin_lst',\n",
       " 'austin_rvs',\n",
       " 'broward_lst',\n",
       " 'broward_rvs',\n",
       " 'clark_lst',\n",
       " 'clark_rvs',\n",
       " 'nashville_lst',\n",
       " 'nashville_rvs',\n",
       " 'ottawa_lst',\n",
       " 'ottawa_rvs',\n",
       " 'pd',\n",
       " 'rvs_dfs',\n",
       " 'rvs_names',\n",
       " 'salem_lst',\n",
       " 'salem_rvs']"
      ]
     },
     "execution_count": 7,
     "metadata": {},
     "output_type": "execute_result"
    }
   ],
   "source": [
    "dir(dfs)"
   ]
  },
  {
   "cell_type": "code",
   "execution_count": 8,
   "metadata": {},
   "outputs": [
    {
     "name": "stdout",
     "output_type": "stream",
     "text": [
      "(7, 1)\n"
     ]
    }
   ],
   "source": [
    "rvs_dfs_stats = {}\n",
    "for i, df in enumerate(dfs.rvs_names):\n",
    "    rvs_dfs_stats.update({df: dfs.rvs_dfs[i].shape[0]})    \n",
    "rvs_dfs_stats = pd.DataFrame(pd.Series(rvs_dfs_stats))\n",
    "rvs_dfs_stats = rvs_dfs_stats.rename(columns={0: 'n_rows'})\n",
    "print(rvs_dfs_stats.shape)"
   ]
  },
  {
   "cell_type": "code",
   "execution_count": 9,
   "metadata": {},
   "outputs": [
    {
     "data": {
      "text/html": [
       "<div>\n",
       "<style scoped>\n",
       "    .dataframe tbody tr th:only-of-type {\n",
       "        vertical-align: middle;\n",
       "    }\n",
       "\n",
       "    .dataframe tbody tr th {\n",
       "        vertical-align: top;\n",
       "    }\n",
       "\n",
       "    .dataframe thead th {\n",
       "        text-align: right;\n",
       "    }\n",
       "</style>\n",
       "<table border=\"1\" class=\"dataframe\">\n",
       "  <thead>\n",
       "    <tr style=\"text-align: right;\">\n",
       "      <th></th>\n",
       "      <th>n_rows</th>\n",
       "    </tr>\n",
       "  </thead>\n",
       "  <tbody>\n",
       "    <tr>\n",
       "      <th>ashville_rvs</th>\n",
       "      <td>173892</td>\n",
       "    </tr>\n",
       "    <tr>\n",
       "      <th>austin_rvs</th>\n",
       "      <td>321484</td>\n",
       "    </tr>\n",
       "    <tr>\n",
       "      <th>broward_rvs</th>\n",
       "      <td>215455</td>\n",
       "    </tr>\n",
       "    <tr>\n",
       "      <th>clark_rvs</th>\n",
       "      <td>267537</td>\n",
       "    </tr>\n",
       "    <tr>\n",
       "      <th>nashville_rvs</th>\n",
       "      <td>322322</td>\n",
       "    </tr>\n",
       "    <tr>\n",
       "      <th>ottawa_rvs</th>\n",
       "      <td>100764</td>\n",
       "    </tr>\n",
       "    <tr>\n",
       "      <th>salem_rvs</th>\n",
       "      <td>7994</td>\n",
       "    </tr>\n",
       "  </tbody>\n",
       "</table>\n",
       "</div>"
      ],
      "text/plain": [
       "               n_rows\n",
       "ashville_rvs   173892\n",
       "austin_rvs     321484\n",
       "broward_rvs    215455\n",
       "clark_rvs      267537\n",
       "nashville_rvs  322322\n",
       "ottawa_rvs     100764\n",
       "salem_rvs        7994"
      ]
     },
     "execution_count": 9,
     "metadata": {},
     "output_type": "execute_result"
    }
   ],
   "source": [
    "rvs_dfs_stats"
   ]
  },
  {
   "cell_type": "code",
   "execution_count": 10,
   "metadata": {},
   "outputs": [
    {
     "data": {
      "text/plain": [
       "0         Lisa is superb hostess, she will treat you lik...\n",
       "1         This was a lovely little place walking distanc...\n",
       "2         Lisa was very nice to work with.  However, we ...\n",
       "3         I feel very lucky to have found this beautiful...\n",
       "4         Great roomy little apartment, beautiful privat...\n",
       "                                ...                        \n",
       "173887    Lisa was a great host & the location is very p...\n",
       "173888    Lisa's place was great value for the area! It ...\n",
       "173889    We were comfortable in this home and it is con...\n",
       "173890    Great location, close to everything. Spacious ...\n",
       "173891    We had a great time and we wish we could have ...\n",
       "Name: comments, Length: 173892, dtype: object"
      ]
     },
     "execution_count": 10,
     "metadata": {},
     "output_type": "execute_result"
    }
   ],
   "source": [
    "dfs.rvs_dfs[0]['comments']"
   ]
  },
  {
   "cell_type": "code",
   "execution_count": 11,
   "metadata": {},
   "outputs": [
    {
     "data": {
      "text/plain": [
       "'Lisa is superb hostess, she will treat you like family and provide you with the coziest little home in Asheville which will definitely enhance your experience of the magical town! Just like the Eco-retreat, the Private sunny apartment is a neat little flat with all you need for up to 3 people, the place was impeccable in lovely neighborhood. You can hardly beat this one!'"
      ]
     },
     "execution_count": 11,
     "metadata": {},
     "output_type": "execute_result"
    }
   ],
   "source": [
    "dfs.rvs_dfs[0]['comments'][0]"
   ]
  },
  {
   "cell_type": "markdown",
   "metadata": {},
   "source": [
    "## Start Tokenization"
   ]
  },
  {
   "cell_type": "code",
   "execution_count": 12,
   "metadata": {},
   "outputs": [],
   "source": [
    "import spacy\n",
    "\n",
    "# load NN sm, md, lg etc.\n",
    "nlp = spacy.load(\"en_core_web_lg\")"
   ]
  },
  {
   "cell_type": "code",
   "execution_count": 13,
   "metadata": {},
   "outputs": [],
   "source": [
    "doc = nlp(dfs.rvs_dfs[0]['comments'][0])"
   ]
  },
  {
   "cell_type": "code",
   "execution_count": 19,
   "metadata": {},
   "outputs": [
    {
     "data": {
      "text/plain": [
       "[We, arrived, to, a, beautiful]"
      ]
     },
     "execution_count": 19,
     "metadata": {},
     "output_type": "execute_result"
    }
   ],
   "source": [
    "tokens = [token for token in doc]\n",
    "tokens[:5]"
   ]
  },
  {
   "cell_type": "code",
   "execution_count": 26,
   "metadata": {},
   "outputs": [],
   "source": [
    "try_with_drops = dfs.rvs_dfs[0]['comments'].dropna()"
   ]
  },
  {
   "cell_type": "code",
   "execution_count": null,
   "metadata": {},
   "outputs": [],
   "source": [
    "# Why is this not working??\n",
    "# Is there a float hidden in the column of text?\n",
    "# The float might be caused by an np.nan\n",
    "tokens = []\n",
    "for doc in nlp.pipe(try_with_drops):\n",
    "        doc_tokens = []\n",
    "        for token in doc:\n",
    "            if (token.is_stop == False) & (token.is_punct == False) & (token.is_space == False):\n",
    "                doc_tokens.append(token.text.lower())\n",
    "            tokens.append(doc_tokens)"
   ]
  },
  {
   "cell_type": "code",
   "execution_count": 25,
   "metadata": {},
   "outputs": [
    {
     "data": {
      "text/plain": [
       "54"
      ]
     },
     "execution_count": 25,
     "metadata": {},
     "output_type": "execute_result"
    }
   ],
   "source": [
    "# Operation Find Float\n",
    "\n",
    "dfs.rvs_dfs[0]['comments'].isna().sum()"
   ]
  },
  {
   "cell_type": "code",
   "execution_count": 29,
   "metadata": {},
   "outputs": [],
   "source": [
    "master_tokens = []\n",
    "\n",
    "for df in dfs.rvs_dfs:\n",
    "    tokens = []\n",
    "    for doc in nlp.pipe(df['comments'].dropna()):\n",
    "        doc_tokens = []\n",
    "        for token in doc:\n",
    "            if (token.is_stop == False) & (token.is_punct == False) & (token.is_space == False):\n",
    "                doc_tokens.append(token.text.lower())\n",
    "            tokens.append(doc_tokens)\n",
    "    master_tokens.append(tokens)\n",
    "\n"
   ]
  },
  {
   "cell_type": "code",
   "execution_count": 30,
   "metadata": {},
   "outputs": [
    {
     "name": "stdout",
     "output_type": "stream",
     "text": [
      "Length 7\n"
     ]
    },
    {
     "data": {
      "text/plain": [
       "['lisa',\n",
       " 'superb',\n",
       " 'hostess',\n",
       " 'treat',\n",
       " 'like',\n",
       " 'family',\n",
       " 'provide',\n",
       " 'coziest',\n",
       " 'little',\n",
       " 'home',\n",
       " 'asheville',\n",
       " 'definitely',\n",
       " 'enhance',\n",
       " 'experience',\n",
       " 'magical',\n",
       " 'town',\n",
       " 'like',\n",
       " 'eco',\n",
       " 'retreat',\n",
       " 'private',\n",
       " 'sunny',\n",
       " 'apartment',\n",
       " 'neat',\n",
       " 'little',\n",
       " 'flat',\n",
       " 'need',\n",
       " '3',\n",
       " 'people',\n",
       " 'place',\n",
       " 'impeccable',\n",
       " 'lovely',\n",
       " 'neighborhood',\n",
       " 'hardly',\n",
       " 'beat']"
      ]
     },
     "execution_count": 30,
     "metadata": {},
     "output_type": "execute_result"
    }
   ],
   "source": [
    "print(\"Length\", len(master_tokens))\n",
    "master_tokens[0][0]"
   ]
  },
  {
   "cell_type": "code",
   "execution_count": null,
   "metadata": {},
   "outputs": [],
   "source": [
    "# Is tokenization the best normalization strategy?\n",
    "# Is normalization the right word?"
   ]
  }
 ],
 "metadata": {
  "kernelspec": {
   "display_name": "disc-realestate",
   "language": "python",
   "name": "disc-realestate"
  },
  "language_info": {
   "codemirror_mode": {
    "name": "ipython",
    "version": 3
   },
   "file_extension": ".py",
   "mimetype": "text/x-python",
   "name": "python",
   "nbconvert_exporter": "python",
   "pygments_lexer": "ipython3",
   "version": "3.8.1"
  }
 },
 "nbformat": 4,
 "nbformat_minor": 4
}
